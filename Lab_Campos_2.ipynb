{
  "nbformat": 4,
  "nbformat_minor": 0,
  "metadata": {
    "colab": {
      "provenance": [],
      "collapsed_sections": [
        "CZhZ5tbq8_2O",
        "jo6LdWWWMIxr",
        "N76HCZNl2Gj9",
        "PgsJfl9oDxoj",
        "R12_2ava8w6y"
      ],
      "include_colab_link": true
    },
    "kernelspec": {
      "name": "python3",
      "display_name": "Python 3"
    },
    "language_info": {
      "name": "python"
    }
  },
  "cells": [
    {
      "cell_type": "markdown",
      "metadata": {
        "id": "view-in-github",
        "colab_type": "text"
      },
      "source": [
        "<a href=\"https://colab.research.google.com/github/JuanMateus00/Laboratorio-2-Procesamiento/blob/main/Lab_Campos_2.ipynb\" target=\"_parent\"><img src=\"https://colab.research.google.com/assets/colab-badge.svg\" alt=\"Open In Colab\"/></a>"
      ]
    },
    {
      "cell_type": "markdown",
      "source": [
        "#**Actividad 2: Ejercicios del Libro Guía Cap. 9 y 10**"
      ],
      "metadata": {
        "id": "MFlJIn3Alatv"
      }
    },
    {
      "cell_type": "code",
      "execution_count": null,
      "metadata": {
        "id": "YQmTRCxTknXw"
      },
      "outputs": [],
      "source": [
        "import sympy as smp\n",
        "from sympy.vector import *\n",
        "M = CoordSys3D('')"
      ]
    },
    {
      "cell_type": "markdown",
      "source": [
        "##1) Determine el volumen $V$ de una esfera de radio $R$."
      ],
      "metadata": {
        "id": "CZhZ5tbq8_2O"
      }
    },
    {
      "cell_type": "markdown",
      "source": [
        "###En coordenadas ciníndricas, el volumen $V$ de una esfera se puede obtener sumando todos los pequeños componentes de volumen $dV$ a lo largo de toda la esfera, esto resultaría en:\n",
        "$$\n",
        "V=∫dV=∫_{r=0}^{R}∫_{θ=0}^{π}∫_{ϕ=0}^{2π}r^2\\sinθ\\, dθdrdϕ\n",
        "$$\n"
      ],
      "metadata": {
        "id": "t2hCMaKnIGZ4"
      }
    },
    {
      "cell_type": "code",
      "source": [
        "R,r,θ,ϕ=smp.symbols('R r θ ϕ') #definición de variables\n",
        "V = smp.integrate(r**2*(smp.sin(θ)) , (r,0,R) , (θ,0,smp.pi) , (ϕ,0,2*smp.pi)) #integral\n",
        "V"
      ],
      "metadata": {
        "id": "u_2-lBFDW_uU",
        "colab": {
          "base_uri": "https://localhost:8080/",
          "height": 54
        },
        "outputId": "bafb91df-ff2d-4051-bb7d-56e0b27e32f4"
      },
      "execution_count": null,
      "outputs": [
        {
          "output_type": "execute_result",
          "data": {
            "text/plain": [
              "4*pi*R**3/3"
            ],
            "text/latex": "$\\displaystyle \\frac{4 \\pi R^{3}}{3}$"
          },
          "metadata": {},
          "execution_count": 260
        }
      ]
    },
    {
      "cell_type": "markdown",
      "source": [
        "##2) Determine el centro de masa de un disco semicircular de radio $R$ y masa $M$."
      ],
      "metadata": {
        "id": "jo6LdWWWMIxr"
      }
    },
    {
      "cell_type": "markdown",
      "source": [
        "###En coordenadas cartesianas, para una continua distrubución de masa M, el centro de masa estará localizado en:\n",
        "$$\n",
        "x_{cm}=\\frac{1}{M}∫x\\,dm\n",
        "$$\n",
        "$$\n",
        "y_{cm}=\\frac{1}{M}∫y\\,dm\n",
        "$$\n",
        "###En coordenadas polares, tendríamos:\n",
        "$$x=ρ\\cos{ϕ}$$\n",
        "$$y=ρ\\sin{ϕ}$$\n",
        "$$dm=\\mu dA=\\muρ\\,dρ\\,dϕ$$\n",
        "###Y finalmente, la masa por unidad de área $μ$:\n",
        "$$μ=\\frac{M}{A}$$\n"
      ],
      "metadata": {
        "id": "wIvw2_1uQcv6"
      }
    },
    {
      "cell_type": "code",
      "source": [
        "M, R, μ, ρ, ϕ = smp.symbols('M R μ ρ ϕ')\n",
        "μ=M/((1/2)*smp.pi*R**2) #masa por unidad de área\n",
        "μ"
      ],
      "metadata": {
        "colab": {
          "base_uri": "https://localhost:8080/",
          "height": 52
        },
        "id": "TNutn8aMPlGo",
        "outputId": "ef0f0276-2a91-4fd3-c973-98417a3d0dbf"
      },
      "execution_count": null,
      "outputs": [
        {
          "output_type": "execute_result",
          "data": {
            "text/plain": [
              "2.0*M/(pi*R**2)"
            ],
            "text/latex": "$\\displaystyle \\frac{2.0 M}{\\pi R^{2}}$"
          },
          "metadata": {},
          "execution_count": 257
        }
      ]
    },
    {
      "cell_type": "code",
      "source": [
        "##Centro de Masa en x\n",
        "x_cm=(1/M)*smp.integrate(μ*ρ*smp.cos(ϕ)*ρ, (ρ,0,R), (ϕ,0,smp.pi))\n",
        "x_cm"
      ],
      "metadata": {
        "colab": {
          "base_uri": "https://localhost:8080/",
          "height": 37
        },
        "id": "ebjISO0DQQQa",
        "outputId": "c8a7a10b-519e-4d7c-f1b1-2dbc6e42cc9c"
      },
      "execution_count": null,
      "outputs": [
        {
          "output_type": "execute_result",
          "data": {
            "text/plain": [
              "0"
            ],
            "text/latex": "$\\displaystyle 0$"
          },
          "metadata": {},
          "execution_count": 258
        }
      ]
    },
    {
      "cell_type": "code",
      "source": [
        "#Centro de Masa en y\n",
        "y_cm=(1/M)*smp.integrate(μ*ρ*smp.sin(ϕ)*ρ, (ρ,0,R), (ϕ,0,smp.pi))\n",
        "y_cm"
      ],
      "metadata": {
        "colab": {
          "base_uri": "https://localhost:8080/",
          "height": 52
        },
        "id": "3GEuDiLATTvP",
        "outputId": "e6ce63e9-e431-4f74-a72f-eca84ab4353f"
      },
      "execution_count": null,
      "outputs": [
        {
          "output_type": "execute_result",
          "data": {
            "text/plain": [
              "1.33333333333333*R/pi"
            ],
            "text/latex": "$\\displaystyle \\frac{1.33333333333333 R}{\\pi}$"
          },
          "metadata": {},
          "execution_count": 259
        }
      ]
    },
    {
      "cell_type": "markdown",
      "source": [
        "###Por lo tanto, el centro de masa del disco semicircular está ubicado en su eje de simetría en $(0,\\frac{4R}{3π})$."
      ],
      "metadata": {
        "id": "LkzLWLaYUAsP"
      }
    },
    {
      "cell_type": "markdown",
      "source": [
        "## 3) Determina el momento de inercia de una capa esférica delgada de masa $M$ y radio $R$ que gira alrededor de cualquier diámetro."
      ],
      "metadata": {
        "id": "D4fa5n53tZZv"
      }
    },
    {
      "cell_type": "markdown",
      "source": [
        "###El caparazón tiene un área de superficie de:\n",
        "$$4πR^2$$\n",
        "\n",
        "###Si $D_{A}$ es masa por unidad de area\n",
        "$$ D_{A} = \\frac{M}{(4πR^2)} $$\n",
        "###Luego masa por una pequeña parte del area $dA$\n",
        "$$ dA = (Rdϴ)(RsinϴdΦ) $$\n",
        "### Es igual a\n",
        "$$ dm = D_{A}dA$$\n",
        "###La distancia perpendicular de esta pequeña área desde el eje de rotación es\n",
        "$$ r = Rsinϴ $$\n",
        "###Entonces:\n",
        "$$ I = ∫_{shell}[Rsinϴ]^2dm = ∫_{ϴ=0}^π∫_{Φ=0}^{2π} [Rsinϴ]^2D_{A}R^2sinϴ dϴ dΦ $$"
      ],
      "metadata": {
        "id": "c-vlRHDrPWE7"
      }
    },
    {
      "cell_type": "code",
      "source": [
        "θ, ϕ, R, M = smp.symbols('θ ϕ R M') #variables\n",
        "D_A = M / (4 * smp.pi * R**2)\n",
        "I = D_A * R**4 * smp.integrate(smp.sin(θ)**3, (θ, 0, smp.pi)) * smp.integrate(1, (ϕ, 0, 2*smp.pi)) #integral\n",
        "I\n",
        "\n"
      ],
      "metadata": {
        "id": "ceG2y3SAZa1j",
        "colab": {
          "base_uri": "https://localhost:8080/",
          "height": 54
        },
        "outputId": "18cb4032-f733-44e7-f8b0-ee2f27d7b0c2"
      },
      "execution_count": null,
      "outputs": [
        {
          "output_type": "execute_result",
          "data": {
            "text/plain": [
              "2*M*R**2/3"
            ],
            "text/latex": "$\\displaystyle \\frac{2 M R^{2}}{3}$"
          },
          "metadata": {},
          "execution_count": 265
        }
      ]
    },
    {
      "cell_type": "markdown",
      "source": [
        "## 4) Considera la función escalar:\n",
        "##$$f(x,y,z) = x^2 + y^2 - z^2 + xy - xz - yz$$\n",
        "##Determinar $\\nabla f$, el vector unitario en dirección $\\nabla f$, la derivada direccional a lo largo de $\\mathbf{e}_{1}+\\mathbf{e}_{2}$ y $\\nabla^2f$ todos en el punto $(1,1,1)$\n"
      ],
      "metadata": {
        "id": "N76HCZNl2Gj9"
      }
    },
    {
      "cell_type": "markdown",
      "source": [
        "###Solución:\n",
        "###1. Comenzamos con el gradiente de $f$:\n"
      ],
      "metadata": {
        "id": "0Qtb1dRB7QxE"
      }
    },
    {
      "cell_type": "code",
      "source": [
        "x, y, z = M.x, M.y, M.z\n",
        "f = x**2+y**2-z**2+x*y-x*z-y*z\n",
        "delop = Del()\n",
        "grad_f=delop(f).doit()\n",
        "grad_f"
      ],
      "metadata": {
        "colab": {
          "base_uri": "https://localhost:8080/",
          "height": 39
        },
        "id": "YwRNdilC7em9",
        "outputId": "d70413f9-363b-4baa-a43d-0b1a6d4f13f9"
      },
      "execution_count": null,
      "outputs": [
        {
          "output_type": "execute_result",
          "data": {
            "text/plain": [
              "(2*.x + .y - .z)*.i + (.x + 2*.y - .z)*.j + (-.x - .y - 2*.z)*.k"
            ],
            "text/latex": "$\\displaystyle \\left(2 \\mathbf{{x}_{}} + \\mathbf{{y}_{}} - \\mathbf{{z}_{}}\\right)\\mathbf{\\hat{i}_{}} + \\left(\\mathbf{{x}_{}} + 2 \\mathbf{{y}_{}} - \\mathbf{{z}_{}}\\right)\\mathbf{\\hat{j}_{}} + \\left(- \\mathbf{{x}_{}} - \\mathbf{{y}_{}} - 2 \\mathbf{{z}_{}}\\right)\\mathbf{\\hat{k}_{}}$"
          },
          "metadata": {},
          "execution_count": 270
        }
      ]
    },
    {
      "cell_type": "markdown",
      "source": [
        "### y, ahora evaluamos $f$ en el punto (1,1,1)"
      ],
      "metadata": {
        "id": "5szAeUuDAGh_"
      }
    },
    {
      "cell_type": "code",
      "source": [
        "f_punto = grad_f.subs([(M.x, 1), (M.y, 1), (M.z, 1)])\n",
        "f_punto"
      ],
      "metadata": {
        "id": "cEcnTrueA1Yx",
        "colab": {
          "base_uri": "https://localhost:8080/",
          "height": 39
        },
        "outputId": "8fb2aee5-3bbd-41c5-ee96-6260e00d6ba8"
      },
      "execution_count": null,
      "outputs": [
        {
          "output_type": "execute_result",
          "data": {
            "text/plain": [
              "2*.i + 2*.j + (-4)*.k"
            ],
            "text/latex": "$\\displaystyle \\left(2\\right)\\mathbf{\\hat{i}_{}} + \\left(2\\right)\\mathbf{\\hat{j}_{}} + \\left(-4\\right)\\mathbf{\\hat{k}_{}}$"
          },
          "metadata": {},
          "execution_count": 271
        }
      ]
    },
    {
      "cell_type": "markdown",
      "source": [
        "### para calcular el vector unitario a lo largo de $\\nabla f$ en $(1,1,1)$"
      ],
      "metadata": {
        "id": "eom05822Be4G"
      }
    },
    {
      "cell_type": "code",
      "source": [
        "magnitud = grad_f.subs([(M.x, 1), (M.y, 1), (M.z, 1)]).magnitude()\n",
        "f_unitario = (1/magnitud) * f_punto\n",
        "f_unitario"
      ],
      "metadata": {
        "id": "66IbnQWXCTJc",
        "colab": {
          "base_uri": "https://localhost:8080/",
          "height": 68
        },
        "outputId": "6423bbce-0886-460c-9a4e-e676e04ac059"
      },
      "execution_count": null,
      "outputs": [
        {
          "output_type": "execute_result",
          "data": {
            "text/plain": [
              "(sqrt(6)/6)*.i + (sqrt(6)/6)*.j + (-sqrt(6)/3)*.k"
            ],
            "text/latex": "$\\displaystyle \\left(\\frac{\\sqrt{6}}{6}\\right)\\mathbf{\\hat{i}_{}} + \\left(\\frac{\\sqrt{6}}{6}\\right)\\mathbf{\\hat{j}_{}} + \\left(- \\frac{\\sqrt{6}}{3}\\right)\\mathbf{\\hat{k}_{}}$"
          },
          "metadata": {},
          "execution_count": 272
        }
      ]
    },
    {
      "cell_type": "markdown",
      "source": [
        "### 2. Para determinar la derivada direccional a lo largo de $\\mathbf{e}_{1}+\\mathbf{e}_{2}$, primero determinamos el vector unitario en esta dirección, el cual llamaremos $n$\n",
        "$$ n = \\frac{1}{\\sqrt{2}} (\\mathbf{e}_1 + \\mathbf{e}_2) $$\n",
        "### entonces, la derivada direccional es: $ n \\cdot\\nabla f $ :"
      ],
      "metadata": {
        "id": "PgsJfl9oDxoj"
      }
    },
    {
      "cell_type": "code",
      "source": [
        "direccion = M.i + M.j\n",
        "n = direccion / smp.sqrt(direccion.dot(direccion))\n",
        "d_direccional = grad_f.dot(n)\n",
        "d_direccional"
      ],
      "metadata": {
        "id": "PmxWZgdTJRdv"
      },
      "execution_count": null,
      "outputs": []
    },
    {
      "cell_type": "markdown",
      "source": [
        "### y, evaluando en el punto $(1,1,1)$"
      ],
      "metadata": {
        "id": "gm29SQBzQE2c"
      }
    },
    {
      "cell_type": "code",
      "source": [
        "d = d_direccional.subs([(M.x, 1), (M.y, 1), (M.z, 1)])\n",
        "d"
      ],
      "metadata": {
        "id": "gNj20rp0QKTH",
        "colab": {
          "base_uri": "https://localhost:8080/",
          "height": 39
        },
        "outputId": "dc0512d9-5ed5-4a23-a53c-346bb7697039"
      },
      "execution_count": null,
      "outputs": [
        {
          "output_type": "execute_result",
          "data": {
            "text/plain": [
              "2*sqrt(2)"
            ],
            "text/latex": "$\\displaystyle 2 \\sqrt{2}$"
          },
          "metadata": {},
          "execution_count": 273
        }
      ]
    },
    {
      "cell_type": "markdown",
      "source": [
        "### Finalmente, el $ \\nabla^2f $\n"
      ],
      "metadata": {
        "id": "NTA71hNsQsdd"
      }
    },
    {
      "cell_type": "code",
      "source": [
        "divergence(grad_f)"
      ],
      "metadata": {
        "id": "3J53phiyQ-Pf",
        "colab": {
          "base_uri": "https://localhost:8080/",
          "height": 37
        },
        "outputId": "9216e798-04cd-403f-a6d8-353bed23f1ed"
      },
      "execution_count": null,
      "outputs": [
        {
          "output_type": "execute_result",
          "data": {
            "text/plain": [
              "2"
            ],
            "text/latex": "$\\displaystyle 2$"
          },
          "metadata": {},
          "execution_count": 274
        }
      ]
    },
    {
      "cell_type": "markdown",
      "source": [
        "##5) Dada la funcion vectorial:       $A$=$x^2y$$\\mathbf{e}_{1}+y^2z\\mathbf{e}_{2}+z^2x\\mathbf{e}_{3}$\n",
        "##determinar su divergencia, rotacional y Laplaciano. Luego, verificar explícitamente que:\n",
        "$$\\nabla\\times(\\nabla\\times A)=\\nabla(\\nabla\\cdot\\ A)-\\nabla^2 A.$$\n"
      ],
      "metadata": {
        "id": "R12_2ava8w6y"
      }
    },
    {
      "cell_type": "code",
      "source": [
        "A = M.x**2*M.y*M.i + M.y**2*M.z*M.j + M.z**2*M.x*M.k #Definir vector\n",
        "A"
      ],
      "metadata": {
        "id": "eJvFZ7h-K88g",
        "colab": {
          "base_uri": "https://localhost:8080/",
          "height": 40
        },
        "outputId": "6f0f4f21-a879-4192-8d27-5948a6860474"
      },
      "execution_count": null,
      "outputs": [
        {
          "output_type": "execute_result",
          "data": {
            "text/plain": [
              ".x**2*.y*.i + .y**2*.z*.j + .x*.z**2*.k"
            ],
            "text/latex": "$\\displaystyle \\left(\\mathbf{{x}_{}}^{2} \\mathbf{{y}_{}}\\right)\\mathbf{\\hat{i}_{}} + \\left(\\mathbf{{y}_{}}^{2} \\mathbf{{z}_{}}\\right)\\mathbf{\\hat{j}_{}} + \\left(\\mathbf{{x}_{}} \\mathbf{{z}_{}}^{2}\\right)\\mathbf{\\hat{k}_{}}$"
          },
          "metadata": {},
          "execution_count": 275
        }
      ]
    },
    {
      "cell_type": "markdown",
      "source": [
        "###Divergencia"
      ],
      "metadata": {
        "id": "6I6X0BbGLjEY"
      }
    },
    {
      "cell_type": "code",
      "source": [
        "divergence(A)"
      ],
      "metadata": {
        "id": "7qMsSI5-LmUx",
        "colab": {
          "base_uri": "https://localhost:8080/",
          "height": 37
        },
        "outputId": "4aebe685-f064-4073-f490-37280f23aaea"
      },
      "execution_count": null,
      "outputs": [
        {
          "output_type": "execute_result",
          "data": {
            "text/plain": [
              "2*.x*.y + 2*.x*.z + 2*.y*.z"
            ],
            "text/latex": "$\\displaystyle 2 \\mathbf{{x}_{}} \\mathbf{{y}_{}} + 2 \\mathbf{{x}_{}} \\mathbf{{z}_{}} + 2 \\mathbf{{y}_{}} \\mathbf{{z}_{}}$"
          },
          "metadata": {},
          "execution_count": 276
        }
      ]
    },
    {
      "cell_type": "markdown",
      "source": [
        "###Rotacional"
      ],
      "metadata": {
        "id": "XGjabqFKLwJq"
      }
    },
    {
      "cell_type": "code",
      "source": [
        "curl(A)"
      ],
      "metadata": {
        "id": "C5piClllLyh7",
        "colab": {
          "base_uri": "https://localhost:8080/",
          "height": 40
        },
        "outputId": "2f9a7220-cd53-4099-fbc3-e6b2b9965b01"
      },
      "execution_count": null,
      "outputs": [
        {
          "output_type": "execute_result",
          "data": {
            "text/plain": [
              "(-.y**2)*.i + (-.z**2)*.j + (-.x**2)*.k"
            ],
            "text/latex": "$\\displaystyle \\left(- \\mathbf{{y}_{}}^{2}\\right)\\mathbf{\\hat{i}_{}} + \\left(- \\mathbf{{z}_{}}^{2}\\right)\\mathbf{\\hat{j}_{}} + \\left(- \\mathbf{{x}_{}}^{2}\\right)\\mathbf{\\hat{k}_{}}$"
          },
          "metadata": {},
          "execution_count": 277
        }
      ]
    },
    {
      "cell_type": "markdown",
      "source": [
        "###Laplaciano"
      ],
      "metadata": {
        "id": "Lup3O66JL3jS"
      }
    },
    {
      "cell_type": "code",
      "source": [
        "laplaciano = laplacian(A)\n",
        "laplaciano"
      ],
      "metadata": {
        "id": "Iys0lg4KL6Xp",
        "colab": {
          "base_uri": "https://localhost:8080/",
          "height": 39
        },
        "outputId": "bc0b2cf3-eafa-4831-c7f6-e1cd6d42e864"
      },
      "execution_count": null,
      "outputs": [
        {
          "output_type": "execute_result",
          "data": {
            "text/plain": [
              "2*.y*.i + 2*.z*.j + 2*.x*.k"
            ],
            "text/latex": "$\\displaystyle \\left(2 \\mathbf{{y}_{}}\\right)\\mathbf{\\hat{i}_{}} + \\left(2 \\mathbf{{z}_{}}\\right)\\mathbf{\\hat{j}_{}} + \\left(2 \\mathbf{{x}_{}}\\right)\\mathbf{\\hat{k}_{}}$"
          },
          "metadata": {},
          "execution_count": 278
        }
      ]
    },
    {
      "cell_type": "markdown",
      "source": [
        "###Demostración de la igualdad"
      ],
      "metadata": {
        "id": "gV5YEDGxc1a3"
      }
    },
    {
      "cell_type": "markdown",
      "source": [
        "###$\\nabla\\times(\\nabla\\times A)$"
      ],
      "metadata": {
        "id": "HbVprNrTc4-d"
      }
    },
    {
      "cell_type": "code",
      "source": [
        "EC1=curl(curl(A))\n",
        "EC1"
      ],
      "metadata": {
        "id": "r1Y8Dy5lc9dR",
        "colab": {
          "base_uri": "https://localhost:8080/",
          "height": 39
        },
        "outputId": "a8c3cd9f-4ca9-44b2-89e3-693ff7662365"
      },
      "execution_count": null,
      "outputs": [
        {
          "output_type": "execute_result",
          "data": {
            "text/plain": [
              "2*.z*.i + 2*.x*.j + 2*.y*.k"
            ],
            "text/latex": "$\\displaystyle \\left(2 \\mathbf{{z}_{}}\\right)\\mathbf{\\hat{i}_{}} + \\left(2 \\mathbf{{x}_{}}\\right)\\mathbf{\\hat{j}_{}} + \\left(2 \\mathbf{{y}_{}}\\right)\\mathbf{\\hat{k}_{}}$"
          },
          "metadata": {},
          "execution_count": 279
        }
      ]
    },
    {
      "cell_type": "markdown",
      "source": [
        "###$\\nabla(\\nabla\\cdot\\ A)-\\nabla^2 A$"
      ],
      "metadata": {
        "id": "UTDXKAwqdF_M"
      }
    },
    {
      "cell_type": "code",
      "source": [
        "EC2=(gradient(divergence(A)))-laplacian(A)\n",
        "EC2"
      ],
      "metadata": {
        "colab": {
          "base_uri": "https://localhost:8080/",
          "height": 39
        },
        "id": "GbRMK9AOdRQe",
        "outputId": "44f37b5e-f5bf-4e52-dca0-0f798d5de76d"
      },
      "execution_count": null,
      "outputs": [
        {
          "output_type": "execute_result",
          "data": {
            "text/plain": [
              "2*.z*.i + 2*.x*.j + 2*.y*.k"
            ],
            "text/latex": "$\\displaystyle \\left(2 \\mathbf{{z}_{}}\\right)\\mathbf{\\hat{i}_{}} + \\left(2 \\mathbf{{x}_{}}\\right)\\mathbf{\\hat{j}_{}} + \\left(2 \\mathbf{{y}_{}}\\right)\\mathbf{\\hat{k}_{}}$"
          },
          "metadata": {},
          "execution_count": 280
        }
      ]
    },
    {
      "cell_type": "code",
      "source": [
        "#Verificación de igualdad\n",
        "EC1.equals(EC2)"
      ],
      "metadata": {
        "colab": {
          "base_uri": "https://localhost:8080/"
        },
        "id": "BqZVKFPkdfTg",
        "outputId": "f9399ac8-eb02-4b26-9c4c-a05b0397af1b"
      },
      "execution_count": null,
      "outputs": [
        {
          "output_type": "execute_result",
          "data": {
            "text/plain": [
              "True"
            ]
          },
          "metadata": {},
          "execution_count": 281
        }
      ]
    }
  ]
}